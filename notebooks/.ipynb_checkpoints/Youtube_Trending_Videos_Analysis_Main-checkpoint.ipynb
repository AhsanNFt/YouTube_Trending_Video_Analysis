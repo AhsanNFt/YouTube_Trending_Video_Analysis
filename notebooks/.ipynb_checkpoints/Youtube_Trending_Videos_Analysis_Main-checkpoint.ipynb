{
 "cells": [
  {
   "cell_type": "markdown",
   "id": "23e31db9",
   "metadata": {},
   "source": [
    "\n",
    "### Phase 1: Data Loading and Initial Exploration\n"
   ]
  },
  {
   "cell_type": "markdown",
   "id": "493c8ff6",
   "metadata": {},
   "source": [
    "\n",
    "**Step 1.1: Import Libraries**\n"
   ]
  },
  {
   "cell_type": "code",
   "execution_count": null,
   "id": "7c6571fe",
   "metadata": {},
   "outputs": [],
   "source": [
    "\n",
    "import pandas as pd   # for data manipulation\n",
    "import json\n",
    "import matplotlib.pyplot as plt  # for plotting graphs\n",
    "import seaborn as sns\n",
    "import re\n",
    "\n",
    "\n",
    "from sklearn.model_selection import train_test_split\n",
    "from sklearn.preprocessing import StandardScaler, OneHotEncoder\n",
    "from sklearn.impute import SimpleImputer\n",
    "from sklearn.compose import ColumnTransformer\n",
    "from sklearn.pipeline import Pipeline\n",
    "\n",
    "from sklearn.linear_model import LogisticRegression\n",
    "from sklearn.metrics import classification_report, confusion_matrix, accuracy_score\n",
    "\n",
    "# Suppress warnings for cleaner output\n",
    "import warnings\n",
    "warnings.filterwarnings(\"ignore\")"
   ]
  },
  {
   "cell_type": "markdown",
   "id": "8c55e64e",
   "metadata": {},
   "source": [
    "\n",
    "**Step 1.2: Load Datasets**\n"
   ]
  },
  {
   "cell_type": "code",
   "execution_count": null,
   "id": "a66b0a7d",
   "metadata": {},
   "outputs": [],
   "source": [
    "\n",
    "# Load the main dataset containing trending video information\n",
    "df = pd.read_csv(\"../data/youtube_dataset/USvideos.csv\")\n",
    "\n",
    "# Load the category ID to name mapping from the JSON file\n",
    "with open(\"../data/youtube_dataset/US_category_id.json\", \"r\") as f:\n",
    "    categories_data = json.load(f)\n",
    "\n",
    "# Create a dictionary for easy mapping of category IDs to names\n",
    "category_id_to_name = {\n",
    "    int(item[\"id\"]): item[\"snippet\"][\"title\"]\n",
    "    for item in categories_data[\"items\"]\n",
    "}\n",
    "\n",
    "# Apply the mapping to create a new column in the DataFrame\n",
    "df[\"category_name\"] = df[\"category_id\"].map(category_id_to_name)\n",
    "\n",
    "print(\"Datasets loaded and category names applied successfully.\")\n",
    "print(\"\\nSample of mapped category names:\")\n",
    "print(df[[\"category_id\", \"category_name\"]].drop_duplicates().head())\n"
   ]
  },
  {
   "cell_type": "markdown",
   "id": "1b516a30",
   "metadata": {},
   "source": [
    "\n",
    "**Step 1.3: Initial Data Inspection**\n"
   ]
  },
  {
   "cell_type": "code",
   "execution_count": null,
   "id": "fd976e8d-3117-463a-ad7e-c4e725279bb9",
   "metadata": {},
   "outputs": [],
   "source": [
    "# Display the first 5 rows of the DataFrame to understand its structure\n",
    "print(\"\\n--- DataFrame Head ---\")\n",
    "print(df.head())\n"
   ]
  },
  {
   "cell_type": "code",
   "execution_count": null,
   "id": "0f31d8a2",
   "metadata": {},
   "outputs": [],
   "source": [
    "# Display basic information about the DataFrame (data types, non-null counts)\n",
    "print(\"\\n--- DataFrame Info ---\")\n",
    "df.info()\n"
   ]
  },
  {
   "cell_type": "code",
   "execution_count": null,
   "id": "276ae737-8178-4900-ab34-83c4574110c5",
   "metadata": {},
   "outputs": [],
   "source": [
    "# Display descriptive statistics for numerical columns\n",
    "print(\"\\n--- Descriptive Statistics ---\")\n",
    "print(df.describe())\n"
   ]
  },
  {
   "cell_type": "code",
   "execution_count": null,
   "id": "aaef5edc-919a-4a98-a667-ec90c380d567",
   "metadata": {},
   "outputs": [],
   "source": [
    "# Display the category mapping to confirm its content\n",
    "print(\"\\n--- Category ID to Name Mapping ---\")\n",
    "print(category_id_to_name)"
   ]
  },
  {
   "cell_type": "markdown",
   "id": "2d1b682a",
   "metadata": {},
   "source": [
    "\n",
    "### Phase 2: Data Cleaning and Preprocessing \n"
   ]
  },
  {
   "cell_type": "code",
   "execution_count": null,
   "id": "bd2c52cc-0cd0-4e17-a8ed-9cd148455bd9",
   "metadata": {},
   "outputs": [],
   "source": [
    "# Check for missing values across all columns before handling\n",
    "print(\"\\n--- Missing Values Before Handling ---\")\n",
    "print(df.isnull().sum())\n",
    "\n",
    "\n",
    "# Drop rows with missing values\n",
    "df.dropna(inplace=True)\n",
    "\n",
    "# Convert date/time columns\n",
    "df['trending_date'] = pd.to_datetime(df['trending_date'], format='%y.%d.%m')\n",
    "df['publish_time'] = pd.to_datetime(df['publish_time'])\n",
    "\n",
    "# duplicates handling\n",
    "print(\"\\n\")\n",
    "print(\"Duplicates Before Handling: \",df.duplicated(subset=[\"video_id\", \"trending_date\"]).sum())\n",
    "print(\"\\n\")\n",
    "# Remove duplicates\n",
    "df.drop_duplicates(subset=['video_id', 'trending_date'], inplace=True)\n",
    "print(\"Duplicates After Handling: \",df.duplicated(subset=[\"video_id\", \"trending_date\"]).sum())\n",
    "print(\"\\n\")\n",
    "\n",
    "# Re-check for missing values after handling\n",
    "print(\"\\n--- Missing Values After Handling ---\")\n",
    "print(df.isnull().sum())\n",
    "print(\"\\n\")\n",
    "\n",
    "# Fill missing values in the 'description' column with an empty string\n",
    "df[\"description\"] = df[\"description\"].fillna(\"\")\n",
    "\n",
    "# Clean text data in 'tags' and 'description'\n",
    "df['tags'] = df['tags'].apply(lambda x: x.replace('[none]', '').replace('|', ', '))\n",
    "df['description'] = df['description'].fillna('')\n",
    "\n",
    "\n",
    "# Confirm cleaning\n",
    "df.info()\n",
    "\n"
   ]
  },
  {
   "cell_type": "markdown",
   "id": "0d35355b-a6f9-42a8-9fcd-22fa91b6c8ac",
   "metadata": {},
   "source": [
    "#### Output:\n",
    "- **Missing Values:** Only description had 570 missing — now all filled.\n",
    "- **Duplicates:** 49 found and removed.\n",
    "- **Dates:** trending_date and publish_time converted to datetime.\n",
    "- **Text:** Cleaned tags and filled description with empty strings.\n",
    "- **Final Check:** No missing values, no duplicates, 40330 clean rows.\n"
   ]
  },
  {
   "cell_type": "markdown",
   "id": "ae5687fb",
   "metadata": {},
   "source": [
    "\n",
    "### Phase 3: Feature Engineering \n"
   ]
  },
  {
   "cell_type": "markdown",
   "id": "c5c6c517",
   "metadata": {},
   "source": [
    "\n",
    "**Step 3.1: Time-Based Features**\n"
   ]
  },
  {
   "cell_type": "code",
   "execution_count": null,
   "id": "1f1882df",
   "metadata": {},
   "outputs": [],
   "source": [
    "# Remove timezone info (convert to tz-naive) if present\n",
    "df[\"publish_time\"] = pd.to_datetime(df[\"publish_time\"]).dt.tz_localize(None)\n",
    "df[\"trending_date\"] = pd.to_datetime(df[\"trending_date\"]).dt.tz_localize(None)\n",
    "\n",
    "# Now you can safely subtract\n",
    "df[\"days_to_trend\"] = (df[\"trending_date\"] - df[\"publish_time\"]).dt.days\n",
    "\n",
    "# Extract additional time-based features\n",
    "df[\"publish_hour\"] = df[\"publish_time\"].dt.hour\n",
    "df[\"publish_day_of_week\"] = df[\"publish_time\"].dt.dayofweek\n",
    "df[\"publish_month\"] = df[\"publish_time\"].dt.month\n",
    "df[\"publish_year\"] = df[\"publish_time\"].dt.year\n",
    "\n",
    "print(\"Time-based features created successfully.\")\n",
    "print(\"\\n--- Sample of Time-Based Features ---\")\n",
    "print(df[[\"trending_date\", \"publish_time\", \"days_to_trend\", \"publish_hour\", \"publish_day_of_week\", \"publish_month\", \"publish_year\"]].head())"
   ]
  },
  {
   "cell_type": "markdown",
   "id": "2252e8a9-65be-4b1f-ae7f-a3c48d0c7e0a",
   "metadata": {},
   "source": [
    "#### Output:\n",
    "- Timezones removed for accuracy\n",
    "- days_to_trend: Days from publish to trending\n",
    "- Extracted: hour, weekday, month, year of publish\n",
    "- Helps analyze when videos tend to trend"
   ]
  },
  {
   "cell_type": "markdown",
   "id": "3d729436",
   "metadata": {},
   "source": [
    "\n",
    "**Step 3.2: Engagement Ratios**\n"
   ]
  },
  {
   "cell_type": "code",
   "execution_count": null,
   "id": "e5d71b3a",
   "metadata": {},
   "outputs": [],
   "source": [
    "# Calculate engagement ratios to normalize metrics by views\n",
    "# Adding 1 to denominators to avoid division by zero for videos with 0 views/dislikes\n",
    "df[\"likes_per_view\"] = df[\"likes\"] / (df[\"views\"] + 1)\n",
    "df[\"dislikes_per_view\"] = df[\"dislikes\"] / (df[\"views\"] + 1)\n",
    "df[\"comments_per_view\"] = df[\"comment_count\"] / (df[\"views\"] + 1)\n",
    "\n",
    "# Calculate the overall engagement score (sum of likes, dislikes, comments per view)\n",
    "df[\"engagement_score\"] = (df[\"likes\"] + df[\"dislikes\"] + df[\"comment_count\"]) / (df[\"views\"] + 1)\n",
    "\n",
    "# Calculate likes to dislikes ratio, handling zero dislikes\n",
    "df[\"likes_dislikes_ratio\"] = df[\"likes\"] / (df[\"dislikes\"] + 1)\n",
    "\n",
    "print(\"Engagement ratios created successfully.\")\n",
    "print(\"\\n--- Sample of Engagement Ratios ---\")\n",
    "print(df[[\"views\", \"likes\", \"dislikes\", \"comment_count\", \"likes_per_view\", \"dislikes_per_view\", \"comments_per_view\", \"engagement_score\", \"likes_dislikes_ratio\"]].head())"
   ]
  },
  {
   "cell_type": "markdown",
   "id": "e383152e-3a0b-426c-ab62-fbd50aefc410",
   "metadata": {},
   "source": [
    "#### Engagement Metrics\n",
    "- Normalized by views to compare fairly across videos.\n",
    "\n",
    "Key ratios:\n",
    "- likes_per_view, dislikes_per_view, comments_per_view\n",
    "- engagement_score: Total interaction per view\n",
    "- likes_dislikes_ratio: Popularity vs. criticism\n",
    "- Helps identify highly engaging or controversial videos regardless of view count."
   ]
  },
  {
   "cell_type": "markdown",
   "id": "63e84bc4",
   "metadata": {},
   "source": [
    "\n",
    "**Step 3.3: Text-Based Features (Tags and Title/Description Length)**\n"
   ]
  },
  {
   "cell_type": "code",
   "execution_count": null,
   "id": "f8fd8a60",
   "metadata": {},
   "outputs": [],
   "source": [
    "import re\n",
    "\n",
    "# Function to clean tags\n",
    "def clean_tags(tags):\n",
    "    tags = tags.replace('\"', '')  # remove quotes\n",
    "    return [tag.strip().lower() for tag in tags.split('|')]\n",
    "\n",
    "# Function to clean descriptions\n",
    "def clean_description(text):\n",
    "    text = re.sub(r'http\\S+', '', text)  # remove URLs\n",
    "    text = re.sub(r'[^a-zA-Z\\s]', '', text)  # remove special characters\n",
    "    return ' '.join(text.lower().split())  # lowercase and strip extra spaces\n",
    "\n",
    "# Make sure to clean the text columns first\n",
    "df['tags_cleaned'] = df['tags'].apply(clean_tags)\n",
    "df['description_cleaned'] = df['description'].apply(clean_description)\n",
    "\n",
    "# Now you can safely create the features\n",
    "df['tag_count'] = df['tags_cleaned'].apply(len)\n",
    "df['title_length'] = df['title'].apply(len)\n",
    "df['description_length'] = df['description_cleaned'].apply(len)\n",
    "\n",
    "# Display results\n",
    "print(\"✅ Text-based features created successfully.\\n\")\n",
    "print(\"--- Sample of Text-Based Features ---\")\n",
    "print(df[['tags_cleaned', 'tag_count', 'title', 'title_length', 'description_cleaned', 'description_length']].head())\n"
   ]
  },
  {
   "cell_type": "markdown",
   "id": "7bd6826b-1457-404c-ba5f-1af7637800a4",
   "metadata": {},
   "source": [
    "#### Text Features\n",
    "- Tags cleaned: Lowercased, split, quotes removed\n",
    "- Descriptions cleaned: URLs & symbols removed, lowercased\n",
    "\n",
    "Created:\n",
    "\n",
    "- tag_count: Number of tags\n",
    "- title_length: Characters in title\n",
    "- description_length: Cleaned description size\n",
    "- Useful for content and SEO analysis"
   ]
  },
  {
   "cell_type": "markdown",
   "id": "78bf0a12",
   "metadata": {},
   "source": [
    "\n",
    "### Phase 4: Exploratory Data Analysis (EDA) - Univariate and Bivariate\n"
   ]
  },
  {
   "cell_type": "markdown",
   "id": "74956be3",
   "metadata": {},
   "source": [
    "\n",
    "**Step 4.1: Distribution of Numerical Features**\n"
   ]
  },
  {
   "cell_type": "code",
   "execution_count": null,
   "id": "d0da12da",
   "metadata": {},
   "outputs": [],
   "source": [
    "\n",
    "# Set the aesthetic style of the plots for better readability\n",
    "sns.set_style(\"whitegrid\")\n",
    "\n",
    "# Create histograms for key numerical features to understand their distribution\n",
    "plt.figure(figsize=(15, 10))\n",
    "\n",
    "plt.subplot(2, 3, 1)\n",
    "sns.histplot(df[\"views\"], bins=50, kde=True)\n",
    "plt.title(\"Distribution of Views\")\n",
    "plt.xlabel(\"Views (Log Scale)\")\n",
    "plt.xscale(\"log\") # Use log scale due to highly skewed distribution\n",
    "\n",
    "\n",
    "plt.tight_layout()\n",
    "plt.show()"
   ]
  },
  {
   "cell_type": "markdown",
   "id": "bbe9baeb-a682-49fe-9395-88aa411c19ba",
   "metadata": {},
   "source": [
    "**Insights:**\n",
    "- This graph shows that most YouTube videos have a relatively low number of views, while a small number of videos gain very high view counts.\n",
    "- The distribution is heavily right-skewed.\n",
    "- Most videos struggle to get views, so creators must focus on optimizing content for visibility (thumbnails, titles, SEO) to stand out in the crowded    space."
   ]
  },
  {
   "cell_type": "code",
   "execution_count": null,
   "id": "26f8bf0e-4253-49e3-883e-63b4ef03e9e5",
   "metadata": {},
   "outputs": [],
   "source": [
    "sns.set_style(\"whitegrid\")\n",
    "\n",
    "# Create histograms for key numerical features to understand their distribution\n",
    "plt.figure(figsize=(15, 10))\n",
    "\n",
    "plt.subplot(2, 3, 2)\n",
    "sns.histplot(df[\"likes\"], bins=50, kde=True)\n",
    "plt.title(\"Distribution of Likes\")\n",
    "plt.xlabel(\"Likes (Log Scale)\")\n",
    "plt.xscale(\"log\") # Use log scale due to highly skewed distribution\n",
    "\n",
    "plt.tight_layout()\n",
    "plt.show()"
   ]
  },
  {
   "cell_type": "markdown",
   "id": "87cf42b3-534f-4016-9f93-de63433c8fc7",
   "metadata": {},
   "source": [
    "**Insight:**\n",
    "- The Graph shows that most videos receive a modest number of likes, with only a few getting large like counts. \n",
    "- This  follows a skewed distribution.\n",
    "- Engagement through likes is not evenly spread. Encouraging viewers to like videos can improve visibility and algorithm ranking.\n"
   ]
  },
  {
   "cell_type": "code",
   "execution_count": null,
   "id": "f2bd6a68-9b71-4e5d-9c69-5f9fe606aaca",
   "metadata": {},
   "outputs": [],
   "source": [
    "sns.set_style(\"whitegrid\")\n",
    "\n",
    "# Create histograms for key numerical features to understand their distribution\n",
    "plt.figure(figsize=(15, 10))\n",
    "\n",
    "plt.subplot(2, 3, 3)\n",
    "sns.histplot(df[\"dislikes\"], bins=50, kde=True)\n",
    "plt.title(\"Distribution of Dislikes\")\n",
    "plt.xlabel(\"Dislikes (Log Scale)\")\n",
    "plt.xscale(\"log\") # Use log scale due to highly skewed distribution\n",
    "\n",
    "\n",
    "plt.tight_layout()\n",
    "plt.show()"
   ]
  },
  {
   "cell_type": "markdown",
   "id": "423b77d2-ca1c-400d-bde2-93fb009d5e6c",
   "metadata": {},
   "source": [
    "**Insights:**\n",
    "- Dislikes are much fewer overall compared to likes and views. Most videos receive very few dislikes.\n",
    "- While dislikes are relatively rare, they still indicate audience dissatisfaction.\n",
    "- Keeping audience satisfaction high reduces the chances of negative feedback."
   ]
  },
  {
   "cell_type": "code",
   "execution_count": null,
   "id": "730345d8-90b4-4427-ac96-7db87ef46c29",
   "metadata": {},
   "outputs": [],
   "source": [
    "sns.set_style(\"whitegrid\")\n",
    "\n",
    "# Create histograms for key numerical features to understand their distribution\n",
    "plt.figure(figsize=(15, 10))\n",
    "\n",
    "plt.subplot(2, 3, 4)\n",
    "sns.histplot(df[\"comment_count\"], bins=50, kde=True)\n",
    "plt.title(\"Distribution of Comment Count\")\n",
    "plt.xlabel(\"Comment Count (Log Scale)\")\n",
    "plt.xscale(\"log\") # Use log scale due to highly skewed distribution\n",
    "\n",
    "\n",
    "plt.tight_layout()\n",
    "plt.show()"
   ]
  },
  {
   "cell_type": "markdown",
   "id": "ebd85801-26a5-49a6-8345-a3e41a209ef3",
   "metadata": {},
   "source": [
    "**Insights:**\n",
    "- Most videos receive very few comments, while a few get a lot. \n",
    "- Comment activity is highly skewed like other engagement metrics.\n",
    "- Encouraging viewers to comment can boost engagement signals. Interactive videos or questions in content help increase comment counts."
   ]
  },
  {
   "cell_type": "code",
   "execution_count": null,
   "id": "0397a7bc-6c72-46cf-be38-47f7a0f902bb",
   "metadata": {},
   "outputs": [],
   "source": [
    "sns.set_style(\"whitegrid\")\n",
    "\n",
    "# Create histograms for key numerical features to understand their distribution\n",
    "plt.figure(figsize=(15, 10))\n",
    "\n",
    "plt.subplot(2, 3, 5)\n",
    "sns.histplot(df[\"days_to_trend\"], bins=30, kde=True)\n",
    "plt.title(\"Distribution of Days to Trend\")\n",
    "plt.xlabel(\"Days to Trend\")\n",
    "\n",
    "\n",
    "plt.tight_layout()\n",
    "plt.show()"
   ]
  },
  {
   "cell_type": "markdown",
   "id": "86c28995-c053-441b-a289-88546122390c",
   "metadata": {},
   "source": [
    "**Insights:**\n",
    "- Most videos that end up trending do so within just a few days of being uploaded, while very few trend later.\n",
    "- The first few days after upload are critical for gaining traction.\n",
    "- Creators should focus their promotion and viewer engagement efforts right after publishing a video."
   ]
  },
  {
   "cell_type": "markdown",
   "id": "b7e20657",
   "metadata": {},
   "source": [
    "\n",
    "**Step 4.2: Most Common Video Categories**\n"
   ]
  },
  {
   "cell_type": "code",
   "execution_count": null,
   "id": "a2869073",
   "metadata": {},
   "outputs": [],
   "source": [
    "import matplotlib.pyplot as plt\n",
    "import seaborn as sns\n",
    "\n",
    "plt.figure(figsize=(12, 7))\n",
    "sns.countplot(\n",
    "    y=\"category_name\",\n",
    "    data=df,\n",
    "    order=df[\"category_name\"].value_counts().index[:15],\n",
    "    palette=\"viridis\"\n",
    ")\n",
    "plt.title(\"Top 15 Most Common Video Categories in Trending Videos\")\n",
    "plt.xlabel(\"Number of Trending Videos\")\n",
    "plt.ylabel(\"Category Name\")\n",
    "plt.tight_layout()\n",
    "plt.show()\n"
   ]
  },
  {
   "cell_type": "markdown",
   "id": "17cbf656-0870-41c9-b4b2-47f7294de954",
   "metadata": {},
   "source": [
    "**Insights:**\n",
    "The Above Graph Shows:\n",
    "It clearly shows that Entertainment dominates with the highest number of trending videos, followed by Music and Howto & Style. Other popular categories include Comedy, People & Blogs, and News & Politics, while categories like Autos & Vehicles and Shows appear much less frequently in the trending list.\n",
    "\n",
    "This indicates that entertainment-based and music content are more likely to go viral or trend on YouTube. For creators aiming to reach trending status, producing content in these popular categories might increase their chances, especially if combined with quality, engagement, and timing.\n"
   ]
  },
  {
   "cell_type": "markdown",
   "id": "056f5ac0",
   "metadata": {},
   "source": [
    "\n",
    "**Step 4.3: Likes vs. Views Scatter Plot**\n"
   ]
  },
  {
   "cell_type": "code",
   "execution_count": null,
   "id": "a76680e2",
   "metadata": {},
   "outputs": [],
   "source": [
    "\n",
    "plt.figure(figsize=(10, 8))\n",
    "sns.scatterplot(x=\"views\", y=\"likes\", data=df, alpha=0.6, hue=\"category_name\", size=\"comment_count\", sizes=(20, 400), legend=\"brief\")\n",
    "plt.title(\"Likes vs. Views Scatter Plot (with Category and Comment Count)\")\n",
    "plt.xlabel(\"Views (Log Scale)\")\n",
    "plt.ylabel(\"Likes (Log Scale)\")\n",
    "plt.xscale(\"log\") # Use log scale for better visualization due to wide range of views\n",
    "plt.yscale(\"log\") # Use log scale for better visualization due to wide range of likes\n",
    "plt.grid(True, which=\"both\", ls=\"--\", c=\".7\")\n",
    "plt.tight_layout()\n",
    "plt.show()"
   ]
  },
  {
   "cell_type": "markdown",
   "id": "aee33af3-2c2d-482f-95d3-e703bed3f6e2",
   "metadata": {},
   "source": [
    "**Insights:**\n",
    "- Strong positive correlation between views and likes.\n",
    "- Larger bubbles (more comments) appear in high-view/like areas.\n",
    "- Categories like Entertainment & Music lead in engagement.\n"
   ]
  },
  {
   "cell_type": "markdown",
   "id": "5c3ebf8c",
   "metadata": {},
   "source": [
    "\n",
    "**Step 4.4: Correlation Heatmap**\n"
   ]
  },
  {
   "cell_type": "code",
   "execution_count": null,
   "id": "09adb539",
   "metadata": {},
   "outputs": [],
   "source": [
    "\n",
    "# Select numerical features for correlation analysis, including newly engineered ones\n",
    "correlation_features = [\n",
    "    \"views\", \"likes\", \"dislikes\", \"comment_count\",\n",
    "    \"days_to_trend\", \"publish_hour\", \"publish_day_of_week\",\n",
    "    \"likes_per_view\", \"dislikes_per_view\", \"comments_per_view\",\n",
    "    \"engagement_score\", \"likes_dislikes_ratio\", \"tag_count\", \"title_length\", \"description_length\"\n",
    "]\n",
    "\n",
    "plt.figure(figsize=(14, 12))\n",
    "sns.heatmap(df[correlation_features].corr(), annot=True, cmap=\"coolwarm\", fmt=\".2f\", linewidths=.5)\n",
    "plt.title(\"Correlation Heatmap of Numerical Features\")\n",
    "plt.tight_layout()\n",
    "plt.show()"
   ]
  },
  {
   "cell_type": "markdown",
   "id": "64d27e6f-5180-4553-a517-5d310e400892",
   "metadata": {},
   "source": [
    "**Insights:**\n",
    "- views, likes, dislikes, comment_count are highly correlated with each other (e.g., likes vs. views = 0.85).\n",
    "- engagement_score strongly correlates with likes_per_view (0.97), indicating a solid metric for evaluating video performance.\n",
    "- days_to_trend has weak or negative correlation with most metrics, suggesting that virality is unpredictable time-wise."
   ]
  },
  {
   "cell_type": "markdown",
   "id": "1c3f2b88",
   "metadata": {},
   "source": [
    "\n",
    "**Step 4.5: Trends by Publish Time (Hour and Day of Week)**\n"
   ]
  },
  {
   "cell_type": "code",
   "execution_count": null,
   "id": "3acea608-cb5b-4be2-98d1-08560c18d663",
   "metadata": {},
   "outputs": [],
   "source": [
    "plt.figure(figsize=(15, 6))\n",
    "\n",
    "plt.subplot(1, 2, 1)\n",
    "sns.countplot(x=\"publish_hour\", data=df, palette=\"rocket\")\n",
    "plt.title(\"Number of Trending Videos by Publish Hour\")\n",
    "plt.xlabel(\"Publish Hour\")\n",
    "plt.ylabel(\"Number of Videos\")\n",
    "\n",
    "plt.tight_layout()\n",
    "plt.show()"
   ]
  },
  {
   "cell_type": "markdown",
   "id": "b3a07d10-ab94-4aad-bf1d-fc5844dfba77",
   "metadata": {},
   "source": [
    "This graph shows that:\n",
    "- Most trending videos are published between 2 PM and 5 PM(14:00 to 17:00), with a clear peak at 4 PM. \n",
    "- Posting in the afternoon greatly boosts the chance of trending, while early morning hours see the fewest trends.\n",
    "- Timing your upload is a key factor for visibility.\n",
    "- Posting your videos in the afternoon peak window (especially around 2–5 PM) can significantly increase their chances of trending and reaching a       wider audience.\n"
   ]
  },
  {
   "cell_type": "code",
   "execution_count": null,
   "id": "73857e01-c83e-411f-9287-8f8beb71f71f",
   "metadata": {},
   "outputs": [],
   "source": [
    "\n",
    "plt.figure(figsize=(15, 6))\n",
    "\n",
    "plt.subplot(1, 2, 2)\n",
    "sns.countplot(x=\"publish_day_of_week\", data=df, palette=\"mako\")\n",
    "plt.title(\"Number of Trending Videos by Publish Day of Week\")\n",
    "plt.xlabel(\"Publish Day of Week (0=Monday, 6=Sunday)\")\n",
    "plt.ylabel(\"Number of Videos\")\n",
    "\n",
    "plt.tight_layout()\n",
    "plt.show()"
   ]
  },
  {
   "cell_type": "markdown",
   "id": "eee7313c-532c-439a-9543-d91e037f618b",
   "metadata": {},
   "source": [
    "**Insights:**\n",
    "This graph shows that\n",
    "- Most trending videos are published between Monday and Friday, with a peak on Wednesday and Thursday.\n",
    "- Fewer trending videos are posted on weekends, especially Saturday and Sunday.\n",
    "- To increase chances of trending, upload during weekdays."
   ]
  },
  {
   "cell_type": "markdown",
   "id": "4a8d30eb",
   "metadata": {},
   "source": [
    "\n",
    "### Phase 5: Predictive Modeling (Optional)\n"
   ]
  },
  {
   "cell_type": "markdown",
   "id": "85690b9e",
   "metadata": {},
   "source": [
    "\n",
    "**Step 5.1: Define Target Variable and Select Features**\n"
   ]
  },
  {
   "cell_type": "code",
   "execution_count": null,
   "id": "1da0c425-19c4-4aec-8216-5e46e6707dd2",
   "metadata": {},
   "outputs": [],
   "source": [
    "\n",
    "view_threshold = df[\"views\"].quantile(0.75)\n",
    "df[\"is_trending\"] = (df[\"views\"] >= view_threshold).astype(int)\n",
    "\n",
    "\n",
    "safe_features = [\n",
    "    \"likes\", \"dislikes\", \"comment_count\",\n",
    "    \"publish_hour\", \"publish_day_of_week\",\n",
    "    \"tag_count\", \"title_length\", \"description_length\",\n",
    "    \"category_name\", \"comments_disabled\", \"ratings_disabled\",\n",
    "    \"likes_dislikes_ratio\"\n",
    "]\n",
    "\n",
    "X = df[safe_features]\n",
    "y = df[\"is_trending\"]\n",
    "\n",
    "\n"
   ]
  },
  {
   "cell_type": "code",
   "execution_count": null,
   "id": "cde52393",
   "metadata": {},
   "outputs": [],
   "source": []
  },
  {
   "cell_type": "markdown",
   "id": "97f76bb3",
   "metadata": {},
   "source": [
    "\n",
    "**Step 5.2: Data Splitting and Preprocessing Pipeline**\n"
   ]
  },
  {
   "cell_type": "code",
   "execution_count": null,
   "id": "64530152",
   "metadata": {},
   "outputs": [],
   "source": [
    "# ✅ Step 3: Identify feature types\n",
    "num_features = X.select_dtypes(include=[\"int64\", \"float64\"]).columns.tolist()\n",
    "cat_features = X.select_dtypes(include=[\"object\", \"bool\"]).columns.tolist()\n",
    "\n",
    "# ✅ Step 4: Preprocessing for numeric and categorical features\n",
    "numeric_transformer = Pipeline([\n",
    "    (\"imputer\", SimpleImputer(strategy=\"median\")),\n",
    "    (\"scaler\", StandardScaler())\n",
    "])\n",
    "\n",
    "categorical_transformer = Pipeline([\n",
    "    (\"imputer\", SimpleImputer(strategy=\"most_frequent\")),\n",
    "    (\"onehot\", OneHotEncoder(handle_unknown=\"ignore\"))\n",
    "])\n",
    "\n",
    "preprocessor = ColumnTransformer([\n",
    "    (\"num\", numeric_transformer, num_features),\n",
    "    (\"cat\", categorical_transformer, cat_features)\n",
    "])\n"
   ]
  },
  {
   "cell_type": "markdown",
   "id": "5bd206bd",
   "metadata": {},
   "source": [
    "\n",
    "**Step 5.3: Model Training and Evaluation**\n"
   ]
  },
  {
   "cell_type": "code",
   "execution_count": null,
   "id": "dd034fcb",
   "metadata": {},
   "outputs": [],
   "source": [
    "# ✅ Step 5: Full pipeline with Logistic Regression\n",
    "model_pipeline = Pipeline([\n",
    "    (\"preprocessor\", preprocessor),\n",
    "    (\"classifier\", LogisticRegression(max_iter=1000, random_state=42))\n",
    "])\n",
    "\n",
    "# ✅ Step 6: Train/test split\n",
    "X_train, X_test, y_train, y_test = train_test_split(X, y, stratify=y, random_state=42)\n",
    "\n",
    "# ✅ Step 7: Train and evaluate\n",
    "model_pipeline.fit(X_train, y_train)\n",
    "y_pred = model_pipeline.predict(X_test)\n",
    "\n",
    "print(\"\\n--- Logistic Regression Evaluation (Leak-Free) ---\")\n",
    "print(f\"Accuracy: {accuracy_score(y_test, y_pred):.4f}\")\n",
    "print(\"Confusion Matrix:\\n\", confusion_matrix(y_test, y_pred))\n",
    "print(\"Classification Report:\\n\", classification_report(y_test, y_pred))\n",
    "\n",
    "# ✅ Step 8: Cross-validation ROC AUC\n",
    "cv_score = cross_val_score(model_pipeline, X, y, cv=5, scoring=\"roc_auc\")\n",
    "print(f\"✅ Average ROC AUC score (cv=5): {cv_score.mean():.4f}\")\n"
   ]
  },
  {
   "cell_type": "markdown",
   "id": "982227a3-99b6-4a41-ab91-f548007b1271",
   "metadata": {},
   "source": [
    "**Insights:**\n",
    "The Model performs well:\n",
    "- Accuracy: 91% — predicts correctly most of the time.\n",
    "- ROC AUC: 0.95 — excellent at separating trending vs. not trending.\n",
    "- Recall for trending: 73% — it misses some trending videos.\n",
    "- Overall: Reliable, realistic, and leakage-free performance."
   ]
  },
  {
   "cell_type": "markdown",
   "id": "9f0ad02f-e537-453d-bd67-1946a4238f9e",
   "metadata": {},
   "source": [
    "### Conclusion:\n",
    "The model achieves 91% accuracy and ROC AUC of 0.95, effectively predicting trending videos using safe, leak-free features like engagement and metadata. It slightly under-predicts trending content (73% recall), but overall performs reliably and realistically for forecasting YouTube popularity."
   ]
  },
  {
   "cell_type": "code",
   "execution_count": null,
   "id": "c462b86f-0847-4cb3-bbfc-dbe18b3bac01",
   "metadata": {},
   "outputs": [],
   "source": [
    "import pandas as pd\n",
    "\n",
    "# ✅ Step 1: Prepare example input (values can be modified)\n",
    "example_video = pd.DataFrame([{\n",
    "    \"likes\": 25000,\n",
    "    \"dislikes\": 500,\n",
    "    \"comment_count\": 3000,\n",
    "    \"publish_hour\": 15,\n",
    "    \"publish_day_of_week\": 2,  # Tuesday\n",
    "    \"tag_count\": 20,\n",
    "    \"title_length\": 50,\n",
    "    \"description_length\": 300,\n",
    "    \"category_name\": \"Entertainment\",\n",
    "    \"comments_disabled\": False,\n",
    "    \"ratings_disabled\": False,\n",
    "    \"likes_dislikes_ratio\": 25000 / (500 + 1)  # = 49.90\n",
    "}])\n",
    "\n",
    "# ✅ Step 2: Predict using the trained model pipeline\n",
    "prediction = model_pipeline.predict(example_video)\n",
    "probability = model_pipeline.predict_proba(example_video)[0][1]\n",
    "\n",
    "# ✅ Step 3: Display the result\n",
    "if prediction[0] == 1:\n",
    "    print(f\"✅ This video is likely to trend (probability: {probability:.2%})\")\n",
    "else:\n",
    "    print(f\"❌ This video is unlikely to trend (probability: {probability:.2%})\")\n"
   ]
  },
  {
   "cell_type": "code",
   "execution_count": null,
   "id": "7ffc458f-0a31-4e32-a60a-21f3a45195cb",
   "metadata": {},
   "outputs": [],
   "source": [
    "import pandas as pd\n",
    "\n",
    "# Example with strong metrics for a trending video\n",
    "example_video = pd.DataFrame([{\n",
    "    \"likes\": 120000,\n",
    "    \"dislikes\": 1500,\n",
    "    \"comment_count\": 10000,\n",
    "    \"publish_hour\": 18,               # Peak upload hour\n",
    "    \"publish_day_of_week\": 4,         # Thursday\n",
    "    \"tag_count\": 25,\n",
    "    \"title_length\": 65,\n",
    "    \"description_length\": 900,\n",
    "    \"category_name\": \"Music\",         # Highly trending category\n",
    "    \"comments_disabled\": False,\n",
    "    \"ratings_disabled\": False,\n",
    "    \"likes_dislikes_ratio\": 120000 / (1500 + 1)  # ≈ 79.94\n",
    "}])\n",
    "\n",
    "# Predict\n",
    "prediction = model_pipeline.predict(example_video)\n",
    "probability = model_pipeline.predict_proba(example_video)[0][1]\n",
    "\n",
    "# Show result\n",
    "if prediction[0] == 1:\n",
    "    print(f\"✅ This video is likely to trend (probability: {probability:.2%})\")\n",
    "else:\n",
    "    print(f\"❌ This video is unlikely to trend (probability: {probability:.2%})\")\n"
   ]
  },
  {
   "cell_type": "code",
   "execution_count": null,
   "id": "ce39fd4c-136d-4d2c-a733-8891ddf5331f",
   "metadata": {},
   "outputs": [],
   "source": []
  }
 ],
 "metadata": {
  "kernelspec": {
   "display_name": "Python 3 (ipykernel)",
   "language": "python",
   "name": "python3"
  },
  "language_info": {
   "codemirror_mode": {
    "name": "ipython",
    "version": 3
   },
   "file_extension": ".py",
   "mimetype": "text/x-python",
   "name": "python",
   "nbconvert_exporter": "python",
   "pygments_lexer": "ipython3",
   "version": "3.8.10"
  }
 },
 "nbformat": 4,
 "nbformat_minor": 5
}
